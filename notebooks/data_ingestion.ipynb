{
 "cells": [
  {
   "cell_type": "markdown",
   "metadata": {},
   "source": [
    "# 01_data_ingestion.ipynb\n",
    "\n",
    "## **Objective:**\n",
    "Load customer purchase data from CSV into a MySQL database for further analysis.\n",
    "\n",
    "---\n",
    "\n",
    "## **1️⃣ Import Necessary Libraries**"
   ]
  },
  {
   "cell_type": "code",
   "execution_count": null,
   "metadata": {},
   "outputs": [],
   "source": [
    "import pandas as pd\n",
    "from sqlalchemy import create_engine\n",
    "import logging\n",
    "import os"
   ]
  },
  {
   "cell_type": "markdown",
   "metadata": {},
   "source": [
    "## **2️⃣ Set Up Logging**"
   ]
  },
  {
   "cell_type": "code",
   "execution_count": null,
   "metadata": {},
   "outputs": [],
   "source": [
    "logging.basicConfig(level=logging.INFO, format='%(asctime)s - %(levelname)s - %(message)s')"
   ]
  },
  {
   "cell_type": "markdown",
   "metadata": {},
   "source": [
    "## **3️⃣ Define File Paths and Database Configurations**"
   ]
  },
  {
   "cell_type": "code",
   "execution_count": null,
   "metadata": {},
   "outputs": [],
   "source": [
    "# Define file path\n",
    "CSV_PATH = \"../data/customer_data.csv\"\n",
    "\n",
    "# Database connection details\n",
    "USERNAME = 'root'\n",
    "PASSWORD = 'root'\n",
    "HOST = 'localhost'\n",
    "DATABASE = 'customer_analysis'"
   ]
  },
  {
   "cell_type": "markdown",
   "metadata": {},
   "source": [
    "## **4️⃣ Connect to MySQL Database**\n",
    "- Creates `customer_db` if it does not exist\n",
    "- Establishes a connection"
   ]
  },
  {
   "cell_type": "code",
   "execution_count": null,
   "metadata": {},
   "outputs": [],
   "source": [
    "def connect_to_db():\n",
    "    # Establish connection to MySQL database\n",
    "    try:\n",
    "        engine = create_engine(f'mysql+mysqlconnector://{USERNAME}:{PASSWORD}@{HOST}/{DATABASE}')\n",
    "        logging.info(\"MySQL database connected successfully.\")\n",
    "        return engine\n",
    "    except Exception as e:\n",
    "        logging.error(f\"Error connecting to MySQL database: {e}\")\n",
    "        return None"
   ]
  },
  {
   "cell_type": "markdown",
   "metadata": {},
   "source": [
    "## **5️⃣ Load CSV Data into MySQL**\n",
    "- Reads CSV data using Pandas\n",
    "- Creates `customer_purchases` table if it does not exist\n",
    "- Inserts data into the database"
   ]
  },
  {
   "cell_type": "code",
   "execution_count": null,
   "metadata": {},
   "outputs": [],
   "source": [
    "def load_csv_to_mysql(CSV_PATH):\n",
    "    # Load CSV data\n",
    "    if not os.path.exists(CSV_PATH):\n",
    "        logging.error(f\"File not found: {CSV_PATH}\")\n",
    "        return None\n",
    "    \n",
    "    try:\n",
    "        df = pd.read_csv(CSV_PATH)\n",
    "        logging.info(f\"Data loaded successfully from {CSV_PATH}\")\n",
    "    except Exception as e:\n",
    "        logging.error(f\"Error loading data from {CSV_PATH}: {e}\")\n",
    "        return None\n",
    "    \n",
    "    # Connect to MySQL database\n",
    "    table_name = 'customer_purchases'\n",
    "    engine = connect_to_db()\n",
    "    if not engine:\n",
    "        logging.error(\"Database connection failed.\")\n",
    "        return None\n",
    "    \n",
    "    try:\n",
    "        df.to_sql(table_name, engine, if_exists='replace', index=False)\n",
    "        logging.info(f\"Data successfully inserted into MySQL table: {table_name}\")\n",
    "    except Exception as e:\n",
    "        logging.error(f\"Error inserting data into MySQL table: {e}\")\n",
    "    finally:\n",
    "        engine.dispose()\n",
    "        logging.info(\"Database connection closed.\")"
   ]
  },
  {
   "cell_type": "markdown",
   "metadata": {},
   "source": [
    "## **6️⃣ Execute Data Ingestion**"
   ]
  },
  {
   "cell_type": "code",
   "execution_count": null,
   "metadata": {},
   "outputs": [],
   "source": [
    "load_csv_to_mysql(CSV_PATH)"
   ]
  },
  {
   "cell_type": "markdown",
   "metadata": {},
   "source": [
    "## **Summary & Next Steps**\n",
    "✅ CSV data has been successfully ingested into MySQL. \n",
    "✅ Next, move to `02_data_cleaning.ipynb` for data preprocessing."
   ]
  }
 ],
 "metadata": {
  "kernelspec": {
   "display_name": "Python 3",
   "language": "python",
   "name": "python3"
  },
  "language_info": {
   "codemirror_mode": {
    "name": "ipython",
    "version": 3
   },
   "file_extension": ".py",
   "mimetype": "text/x-python",
   "name": "python",
   "nbconvert_exporter": "python",
   "pygments_lexer": "ipython3",
   "version": "3.13.1"
  }
 },
 "nbformat": 4,
 "nbformat_minor": 2
}
