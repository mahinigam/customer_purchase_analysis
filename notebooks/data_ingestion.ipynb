{
 "cells": [
  {
   "cell_type": "markdown",
   "metadata": {},
   "source": [
    "# 01_data_ingestion.ipynb\n",
    "\n",
    "## **Objective:**\n",
    "Load customer purchase data from CSV into a MySQL database for further analysis.\n",
    "\n",
    "---\n",
    "\n",
    "## **1️⃣ Import Necessary Libraries**"
   ]
  },
  {
   "cell_type": "code",
   "execution_count": 20,
   "metadata": {},
   "outputs": [],
   "source": [
    "import pandas as pd\n",
    "import mysql.connector\n",
    "import logging\n",
    "\n",
    "# Set up logging\n",
    "logging.basicConfig(level=logging.INFO, format='%(asctime)s - %(levelname)s - %(message)s')"
   ]
  },
  {
   "cell_type": "markdown",
   "metadata": {},
   "source": [
    "## **2️⃣ Define File Paths and Database Configurations**"
   ]
  },
  {
   "cell_type": "code",
   "execution_count": 21,
   "metadata": {},
   "outputs": [],
   "source": [
    "# Define file path\n",
    "CSV_PATH = \"C:\\\\Users\\\\mahin\\\\CustomerPurchaseAnalysis\\\\customer_purchase_analysis\\\\data\\\\customer_data.csv\"\n",
    "\n",
    "# Database connection details\n",
    "DB_CONFIG = {\n",
    "    \"host\": \"localhost\",\n",
    "    \"user\": \"root\",\n",
    "    \"password\": \"your_password\",\n",
    "    \"database\": \"customer_db\"\n",
    "}"
   ]
  },
  {
   "cell_type": "markdown",
   "metadata": {},
   "source": [
    "## **3️⃣ Connect to MySQL Database**\n",
    "- Creates `customer_db` if it does not exist\n",
    "- Establishes a connection"
   ]
  },
  {
   "cell_type": "code",
   "execution_count": 22,
   "metadata": {},
   "outputs": [],
   "source": [
    "def connect_to_db():\n",
    "    \"\"\"Connects to MySQL database and creates customer_db if not exists.\"\"\"\n",
    "    try:\n",
    "        conn = mysql.connector.connect(\n",
    "            host=DB_CONFIG[\"host\"],\n",
    "            user=DB_CONFIG[\"user\"],\n",
    "            password=DB_CONFIG[\"password\"]\n",
    "        )\n",
    "        cursor = conn.cursor()\n",
    "        cursor.execute(\"CREATE DATABASE IF NOT EXISTS customer_db\")\n",
    "        cursor.close()\n",
    "        conn.close()\n",
    "\n",
    "        conn = mysql.connector.connect(**DB_CONFIG)\n",
    "        logging.info(\"Connected to MySQL database.\")\n",
    "        return conn\n",
    "    except Exception as e:\n",
    "        logging.error(f\"Database connection failed: {e}\")\n",
    "        return None"
   ]
  },
  {
   "cell_type": "markdown",
   "metadata": {},
   "source": [
    "## **4️⃣ Load CSV Data into MySQL**\n",
    "- Reads CSV data using Pandas\n",
    "- Creates `customer_purchases` table if it does not exist\n",
    "- Inserts data into the database"
   ]
  },
  {
   "cell_type": "code",
   "execution_count": 23,
   "metadata": {},
   "outputs": [],
   "source": [
    "def load_csv_to_mysql():\n",
    "    \"\"\"Loads CSV data into MySQL database.\"\"\"\n",
    "    conn = connect_to_db()\n",
    "    if conn is None:\n",
    "        return\n",
    "    \n",
    "    df = pd.read_csv(CSV_PATH)\n",
    "    cursor = conn.cursor()\n",
    "\n",
    "    # Creating the table\n",
    "    create_table_query = \"\"\"\n",
    "    CREATE TABLE IF NOT EXISTS customer_purchases (\n",
    "        customer_id INT,\n",
    "        region VARCHAR(255),\n",
    "        product_category VARCHAR(255),\n",
    "        purchase_amount FLOAT,\n",
    "        purchase_frequency VARCHAR(50)\n",
    "    )\n",
    "    \"\"\"\n",
    "    cursor.execute(create_table_query)\n",
    "\n",
    "    # Insert data\n",
    "    for _, row in df.iterrows():\n",
    "        cursor.execute(\n",
    "            \"INSERT INTO customer_purchases (customer_id, region, product_category, purchase_amount, purchase_frequency) VALUES (%s, %s, %s, %s, %s)\",\n",
    "            tuple(row)\n",
    "        )\n",
    "\n",
    "    conn.commit()\n",
    "    cursor.close()\n",
    "    conn.close()\n",
    "    logging.info(\"Data successfully inserted into MySQL.\")"
   ]
  },
  {
   "cell_type": "markdown",
   "metadata": {},
   "source": [
    "## **5️⃣ Execute Data Ingestion**"
   ]
  },
  {
   "cell_type": "code",
   "execution_count": 24,
   "metadata": {},
   "outputs": [
    {
     "name": "stderr",
     "output_type": "stream",
     "text": [
      "2025-02-24 23:00:27,242 - ERROR - Database connection failed: 1045 (28000): Access denied for user 'root'@'localhost' (using password: YES)\n"
     ]
    }
   ],
   "source": [
    "load_csv_to_mysql()\n"
   ]
  },
  {
   "cell_type": "markdown",
   "metadata": {},
   "source": [
    "## **6️⃣ Summary & Next Steps**\n",
    "✅ CSV data has been successfully ingested into MySQL. \n",
    "✅ Next, move to `02_data_cleaning.ipynb` for data preprocessing."
   ]
  }
 ],
 "metadata": {
  "kernelspec": {
   "display_name": "venv",
   "language": "python",
   "name": "python3"
  },
  "language_info": {
   "codemirror_mode": {
    "name": "ipython",
    "version": 3
   },
   "file_extension": ".py",
   "mimetype": "text/x-python",
   "name": "python",
   "nbconvert_exporter": "python",
   "pygments_lexer": "ipython3",
   "version": "3.13.1"
  }
 },
 "nbformat": 4,
 "nbformat_minor": 2
}
