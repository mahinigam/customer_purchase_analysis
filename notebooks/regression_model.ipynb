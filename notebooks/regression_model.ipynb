{
 "cells": [
  {
   "cell_type": "markdown",
   "metadata": {},
   "source": [
    "# 04_regression_analysis.ipynb\n",
    "\n",
    "## **Objective:**\n",
    "Train a linear regression model to analyze customer purchase behavior.\n",
    "\n",
    "---\n",
    "\n",
    "## **1️⃣ Import Necessary Libraries**"
   ]
  },
  {
   "cell_type": "code",
   "execution_count": 12,
   "metadata": {},
   "outputs": [],
   "source": [
    "import pandas as pd\n",
    "import logging\n",
    "import os\n",
    "from sklearn.model_selection import train_test_split\n",
    "from sklearn.linear_model import LinearRegression\n",
    "from sklearn.metrics import mean_squared_error"
   ]
  },
  {
   "cell_type": "markdown",
   "metadata": {},
   "source": [
    "## **2️⃣ Set Up Logging**"
   ]
  },
  {
   "cell_type": "code",
   "execution_count": 13,
   "metadata": {},
   "outputs": [],
   "source": [
    "logging.basicConfig(level=logging.INFO, format='%(asctime)s - %(levelname)s - %(message)s')"
   ]
  },
  {
   "cell_type": "markdown",
   "metadata": {},
   "source": [
    "## **3️⃣ Define File Paths**"
   ]
  },
  {
   "cell_type": "code",
   "execution_count": null,
   "metadata": {},
   "outputs": [],
   "source": [
    "DATA_PATH = \"data/customer_data_clean.csv\"\n",
    "RESULTS_PATH = \"data/regression_results.csv\""
   ]
  },
  {
   "cell_type": "markdown",
   "metadata": {},
   "source": [
    "## **4️⃣ Load Dataset**"
   ]
  },
  {
   "cell_type": "code",
   "execution_count": 15,
   "metadata": {},
   "outputs": [
    {
     "name": "stderr",
     "output_type": "stream",
     "text": [
      "2025-02-24 23:26:38,884 - INFO - Data loaded successfully.\n"
     ]
    }
   ],
   "source": [
    "def load_data(file_path):\n",
    "    \"\"\"Load dataset safely.\"\"\"\n",
    "    if not os.path.exists(file_path):\n",
    "        logging.error(f\"File not found: {file_path}\")\n",
    "        return None\n",
    "    try:\n",
    "        df = pd.read_csv(file_path)\n",
    "        logging.info(\"Data loaded successfully.\")\n",
    "        return df\n",
    "    except Exception as e:\n",
    "        logging.error(f\"Error loading data: {e}\")\n",
    "        return None\n",
    "\n",
    "# Load data\n",
    "df = load_data(DATA_PATH)"
   ]
  },
  {
   "cell_type": "markdown",
   "metadata": {},
   "source": [
    "## **5️⃣ Train Regression Model**"
   ]
  },
  {
   "cell_type": "code",
   "execution_count": 16,
   "metadata": {},
   "outputs": [
    {
     "name": "stderr",
     "output_type": "stream",
     "text": [
      "2025-02-24 23:26:38,925 - INFO - Model trained successfully. Mean Squared Error: 0.023012271112997723\n",
      "2025-02-24 23:26:38,975 - INFO - Regression results saved: C:\\Users\\mahin\\CustomerPurchaseAnalysis\\customer_purchase_analysis\\data\\regression_results.csv\n"
     ]
    }
   ],
   "source": [
    "def train_regression(df):\n",
    "    \"\"\"Train a linear regression model.\"\"\"\n",
    "    if df is None:\n",
    "        logging.error(\"No data available for training.\")\n",
    "        return\n",
    "    \n",
    "    try:\n",
    "        # Creating a feature for transaction order\n",
    "        df['transaction_id'] = range(1, len(df) + 1)\n",
    "        X = df[['transaction_id']]\n",
    "        y = df['purchase_amount_log']\n",
    "\n",
    "        # Split data\n",
    "        X_train, X_test, y_train, y_test = train_test_split(X, y, test_size=0.2, random_state=42)\n",
    "\n",
    "        # Train model\n",
    "        model = LinearRegression()\n",
    "        model.fit(X_train, y_train)\n",
    "\n",
    "        # Make predictions\n",
    "        predictions = model.predict(X_test)\n",
    "        mse = mean_squared_error(y_test, predictions)\n",
    "        logging.info(f\"Model trained successfully. Mean Squared Error: {mse}\")\n",
    "\n",
    "        # Save results\n",
    "        results = pd.DataFrame({'Actual': y_test, 'Predicted': predictions})\n",
    "        results.to_csv(RESULTS_PATH, index=False)\n",
    "        logging.info(f\"Regression results saved: {RESULTS_PATH}\")\n",
    "\n",
    "    except Exception as e:\n",
    "        logging.error(f\"Error during model training: {e}\")\n",
    "\n",
    "# Train model\n",
    "train_regression(df)"
   ]
  },
  {
   "cell_type": "markdown",
   "metadata": {},
   "source": [
    "## **6️⃣ Summary & Next Steps**\n",
    "✅ Regression model trained and evaluated.  \n",
    "✅ Results saved for further analysis.  \n",
    "➡️ Next, proceed to `05_visualization_export.ipynb` to visualize insights."
   ]
  }
 ],
 "metadata": {
  "kernelspec": {
   "display_name": "venv",
   "language": "python",
   "name": "python3"
  },
  "language_info": {
   "codemirror_mode": {
    "name": "ipython",
    "version": 3
   },
   "file_extension": ".py",
   "mimetype": "text/x-python",
   "name": "python",
   "nbconvert_exporter": "python",
   "pygments_lexer": "ipython3",
   "version": "3.13.1"
  }
 },
 "nbformat": 4,
 "nbformat_minor": 2
}
