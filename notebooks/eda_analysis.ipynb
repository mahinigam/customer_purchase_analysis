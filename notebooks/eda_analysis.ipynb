{
 "cells": [
  {
   "cell_type": "markdown",
   "metadata": {},
   "source": [
    "# 03_eda_analysis.ipynb\n",
    "\n",
    "## **Objective:**\n",
    "Perform Exploratory Data Analysis (EDA) to identify trends and insights.\n",
    "\n",
    "---\n",
    "\n",
    "## **1️⃣ Import Necessary Libraries**"
   ]
  },
  {
   "cell_type": "code",
   "execution_count": null,
   "metadata": {},
   "outputs": [],
   "source": [
    "import pandas as pd\n",
    "import numpy as np\n",
    "import matplotlib.pyplot as plt\n",
    "import seaborn as sns\n",
    "import logging\n",
    "import os"
   ]
  },
  {
   "cell_type": "markdown",
   "metadata": {},
   "source": [
    "## **2️⃣ Set Up Logging**"
   ]
  },
  {
   "cell_type": "code",
   "execution_count": null,
   "metadata": {},
   "outputs": [],
   "source": [
    "logging.basicConfig(level=logging.INFO, format='%(asctime)s - %(levelname)s - %(message)s')"
   ]
  },
  {
   "cell_type": "markdown",
   "metadata": {},
   "source": [
    "## **3️⃣ Define File Paths**"
   ]
  },
  {
   "cell_type": "code",
   "execution_count": null,
   "metadata": {},
   "outputs": [],
   "source": [
    "CLEANED_DATA_PATH = \"../data/customer_data_clean.csv\""
   ]
  },
  {
   "cell_type": "markdown",
   "metadata": {},
   "source": [
    "## **4️⃣ Load Cleaned Data**"
   ]
  },
  {
   "cell_type": "code",
   "execution_count": null,
   "metadata": {},
   "outputs": [],
   "source": [
    "def load_data(file_path):\n",
    "    \"\"\"Loads cleaned dataset with error handling.\"\"\"\n",
    "    if not os.path.exists(file_path):\n",
    "        logging.error(f\"File not found: {file_path}\")\n",
    "        return None\n",
    "    \n",
    "    try:\n",
    "        df = pd.read_csv(file_path)\n",
    "        logging.info(\"Cleaned data successfully loaded.\")\n",
    "        return df\n",
    "    except Exception as e:\n",
    "        logging.error(f\"Error loading data: {e}\")\n",
    "        return None\n",
    "    \n",
    "    # Load cleaned data\n",
    "df = load_data(CLEANED_DATA_PATH)"
   ]
  },
  {
   "cell_type": "markdown",
   "metadata": {},
   "source": [
    "## **5️⃣ Basic Data Overview**\n",
    "- Displays dataset structure, summary, and missing values."
   ]
  },
  {
   "cell_type": "code",
   "execution_count": null,
   "metadata": {},
   "outputs": [],
   "source": [
    "def data_overview(df):\n",
    "    \"\"\"Prints dataset summary and missing values.\"\"\"\n",
    "    logging.info(\"Generating dataset overview.\")\n",
    "    \n",
    "    print(\"\\n--- Data Info ---\")\n",
    "    print(df.info())\n",
    "    print(\"\\n--- Data Description ---\")\n",
    "    print(df.describe())\n",
    "    print(\"\\n--- Missing Values ---\")\n",
    "    print(df.isnull().sum())"
   ]
  },
  {
   "cell_type": "markdown",
   "metadata": {},
   "source": [
    "## **6️⃣ Visualizing Purchase Amount Distribution**"
   ]
  },
  {
   "cell_type": "code",
   "execution_count": null,
   "metadata": {},
   "outputs": [],
   "source": [
    "def plot_purchase_distribution(df):\n",
    "    \"\"\"Plots histogram and boxplot for purchase_amount.\"\"\"\n",
    "    logging.info(\"Plotting purchase amount distribution.\")\n",
    "    \n",
    "    fig, axes = plt.subplots(2, 1, figsize=(10, 8))\n",
    "    \n",
    "    # Histogram\n",
    "    sns.histplot(df['purchase_amount'], bins=30, kde=True, ax=axes[0])\n",
    "    axes[0].set_title(\"Purchase Amount Distribution\")\n",
    "    \n",
    "    # Boxplot\n",
    "    sns.boxplot(x=df['purchase_amount'], ax=axes[1])\n",
    "    axes[1].set_title(\"Boxplot of Purchase Amount\")\n",
    "    \n",
    "    plt.tight_layout()\n",
    "    plt.show()"
   ]
  },
  {
   "cell_type": "markdown",
   "metadata": {},
   "source": [
    "## **7️⃣ Log-Transformed Purchase Amount Distribution**\n",
    "- Helps visualize skewed data better."
   ]
  },
  {
   "cell_type": "code",
   "execution_count": null,
   "metadata": {},
   "outputs": [],
   "source": [
    "def plot_log_purchase_distribution(df):\n",
    "    \"\"\"Plots histogram and boxplot for log-transformed purchase amount.\"\"\"\n",
    "    logging.info(\"Plotting log-transformed purchase amount distribution.\")\n",
    "    \n",
    "    if 'purchase_amount' not in df:\n",
    "        logging.error(\"purchase_amount column not found.\")\n",
    "        return\n",
    "    \n",
    "    df['purchase_amount_log'] = np.log1p(df['purchase_amount'])\n",
    "\n",
    "    fig, axes = plt.subplots(2, 1, figsize=(10, 8))\n",
    "\n",
    "    # Histogram\n",
    "    sns.histplot(df['purchase_amount_log'], bins=30, kde=True, ax=axes[0])\n",
    "    axes[0].set_title(\"Log-Transformed Purchase Amount Distribution\")\n",
    "    \n",
    "    # Boxplot\n",
    "    sns.boxplot(x=df['purchase_amount_log'], ax=axes[1])\n",
    "    axes[1].set_title(\"Boxplot of Log-Transformed Purchase Amount\")\n",
    "    \n",
    "    plt.tight_layout()\n",
    "    plt.show()"
   ]
  },
  {
   "cell_type": "markdown",
   "metadata": {},
   "source": [
    "## **8️⃣ Analyzing Customer Spending by Region**"
   ]
  },
  {
   "cell_type": "code",
   "execution_count": null,
   "metadata": {},
   "outputs": [],
   "source": [
    "def plot_spending_by_region(df):\n",
    "    \"\"\"Plots average spending per region.\"\"\"\n",
    "    logging.info(\"Plotting customer spending by region.\")\n",
    "    \n",
    "    plt.figure(figsize=(10, 5))\n",
    "    sns.barplot(x='region', y='purchase_amount', data=df, estimator=np.mean, errorbar=None, palette='viridis', hue='region', legend=False)\n",
    "    plt.xticks(rotation=45)\n",
    "    plt.title(\"Average Customer Spending by Region\")\n",
    "    plt.show()"
   ]
  },
  {
   "cell_type": "markdown",
   "metadata": {},
   "source": [
    "## **9️⃣ Analyzing Purchase Frequency**"
   ]
  },
  {
   "cell_type": "code",
   "execution_count": null,
   "metadata": {},
   "outputs": [],
   "source": [
    "def plot_purchase_frequency(df):\n",
    "    \"\"\"Plots purchase frequency distribution.\"\"\"\n",
    "    logging.info(\"Plotting purchase frequency distribution.\")\n",
    "    \n",
    "    plt.figure(figsize=(10, 8))\n",
    "    sns.countplot(x='purchase_frequency', data=df, palette='coolwarm', hue='purchase_frequency', legend=False)\n",
    "    plt.xticks(rotation=45)\n",
    "    plt.title(\"Purchase Frequency Distribution\")\n",
    "    plt.show()"
   ]
  },
  {
   "cell_type": "markdown",
   "metadata": {},
   "source": [
    "## **🔟 Execute EDA**"
   ]
  },
  {
   "cell_type": "code",
   "execution_count": null,
   "metadata": {},
   "outputs": [],
   "source": [
    "def perform_eda(df):\n",
    "    if df is None:\n",
    "        logging.error(\"No data to analyze.\")\n",
    "        return\n",
    "    \n",
    "    try:\n",
    "        data_overview(df)\n",
    "        plot_purchase_distribution(df)\n",
    "        plot_log_purchase_distribution(df)\n",
    "        plot_spending_by_region(df)\n",
    "        plot_purchase_frequency(df)\n",
    "        logging.info(\"Exploratory data analysis complete.\")\n",
    "    except Exception as e:\n",
    "        logging.error(f\"Error during EDA: {e}\")\n",
    "\n",
    "perform_eda(df)"
   ]
  },
  {
   "cell_type": "markdown",
   "metadata": {},
   "source": [
    "## **Summary & Next Steps**\n",
    "✅ EDA performed successfully.\n",
    "✅ Next, move to `04_regression_analysis.ipynb` for predictive modeling."
   ]
  }
 ],
 "metadata": {
  "kernelspec": {
   "display_name": "Python 3",
   "language": "python",
   "name": "python3"
  },
  "language_info": {
   "codemirror_mode": {
    "name": "ipython",
    "version": 3
   },
   "file_extension": ".py",
   "mimetype": "text/x-python",
   "name": "python",
   "nbconvert_exporter": "python",
   "pygments_lexer": "ipython3",
   "version": "3.13.1"
  }
 },
 "nbformat": 4,
 "nbformat_minor": 2
}
