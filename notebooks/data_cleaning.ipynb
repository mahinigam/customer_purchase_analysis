{
 "cells": [
  {
   "cell_type": "markdown",
   "metadata": {},
   "source": [
    "# 02_data_cleaning.ipynb\n",
    "\n",
    "## **Objective:**\n",
    "Perform data cleaning and preprocessing to ensure data quality for analysis.\n",
    "\n",
    "---\n",
    "\n",
    "## **1️⃣ Import Necessary Libraries**"
   ]
  },
  {
   "cell_type": "code",
   "execution_count": 1,
   "metadata": {},
   "outputs": [],
   "source": [
    "import pandas as pd\n",
    "import numpy as np\n",
    "import logging\n",
    "\n",
    "# Set up logging\n",
    "logging.basicConfig(level=logging.INFO, format='%(asctime)s - %(levelname)s - %(message)s')"
   ]
  },
  {
   "cell_type": "markdown",
   "metadata": {},
   "source": [
    "## **2️⃣ Load Raw Data**\n",
    "- Reads the raw dataset from the CSV file."
   ]
  },
  {
   "cell_type": "code",
   "execution_count": 2,
   "metadata": {},
   "outputs": [],
   "source": [
    "# Define file paths\n",
    "RAW_DATA_PATH = \"data/customer_data.csv\"\n",
    "CLEANED_DATA_PATH = \"data/customer_data_clean.csv\"\n",
    "\n",
    "def load_data(file_path):\n",
    "    \"\"\"Loads dataset with error handling.\"\"\"\n",
    "    try:\n",
    "        df = pd.read_csv(file_path)\n",
    "        logging.info(\"Data successfully loaded.\")\n",
    "        return df\n",
    "    except Exception as e:\n",
    "        logging.error(f\"Error loading data: {e}\")\n",
    "        return None"
   ]
  },
  {
   "cell_type": "markdown",
   "metadata": {},
   "source": [
    "## **3️⃣ Handle Missing Values**\n",
    "- Removes rows with missing values."
   ]
  },
  {
   "cell_type": "code",
   "execution_count": 3,
   "metadata": {},
   "outputs": [],
   "source": [
    "def clean_missing_values(df):\n",
    "    \"\"\"Drops rows with missing values.\"\"\"\n",
    "    df_cleaned = df.dropna()\n",
    "    logging.info(f\"Missing values removed. Rows before: {len(df)}, After: {len(df_cleaned)}\")\n",
    "    return df_cleaned"
   ]
  },
  {
   "cell_type": "markdown",
   "metadata": {},
   "source": [
    "## **4️⃣ Convert Data Types**\n",
    "- Ensures `purchase_amount` is numeric."
   ]
  },
  {
   "cell_type": "code",
   "execution_count": 4,
   "metadata": {},
   "outputs": [],
   "source": [
    "def convert_data_types(df):\n",
    "    \"\"\"Converts purchase_amount to numeric type.\"\"\"\n",
    "    df['purchase_amount'] = pd.to_numeric(df['purchase_amount'], errors='coerce')\n",
    "    return df\n"
   ]
  },
  {
   "cell_type": "markdown",
   "metadata": {},
   "source": [
    "## **5️⃣ Feature Engineering**\n",
    "- Adds a log-transformed column for `purchase_amount`."
   ]
  },
  {
   "cell_type": "code",
   "execution_count": 5,
   "metadata": {},
   "outputs": [],
   "source": [
    "def feature_engineering(df):\n",
    "    \"\"\"Creates log-transformed purchase_amount column.\"\"\"\n",
    "    df['purchase_amount_log'] = df['purchase_amount'].apply(lambda x: np.log(x + 1))\n",
    "    return df"
   ]
  },
  {
   "cell_type": "markdown",
   "metadata": {},
   "source": [
    "## **6️⃣ Sort & Save Cleaned Data**\n",
    "- Sorts by `purchase_amount` and saves the cleaned dataset."
   ]
  },
  {
   "cell_type": "code",
   "execution_count": 6,
   "metadata": {},
   "outputs": [],
   "source": [
    "def save_cleaned_data(df, file_path):\n",
    "    \"\"\"Saves the cleaned dataset to a CSV file.\"\"\"\n",
    "    df = df.sort_values('purchase_amount', ascending=False)\n",
    "    df.to_csv(file_path, index=False)\n",
    "    logging.info(\"Cleaned data saved successfully.\")\n"
   ]
  },
  {
   "cell_type": "markdown",
   "metadata": {},
   "source": [
    "## **7️⃣ Execute Data Cleaning Process**"
   ]
  },
  {
   "cell_type": "code",
   "execution_count": 7,
   "metadata": {},
   "outputs": [
    {
     "name": "stderr",
     "output_type": "stream",
     "text": [
      "2025-02-28 04:06:43,303 - ERROR - Error loading data: [Errno 2] No such file or directory: 'data/customer_data.csv'\n"
     ]
    }
   ],
   "source": [
    "df = load_data(RAW_DATA_PATH)\n",
    "if df is not None:\n",
    "    df = clean_missing_values(df)\n",
    "    df = convert_data_types(df)\n",
    "    df = feature_engineering(df)\n",
    "    save_cleaned_data(df, CLEANED_DATA_PATH)"
   ]
  },
  {
   "cell_type": "markdown",
   "metadata": {},
   "source": [
    "## **8️⃣ Summary & Next Steps**\n",
    "✅ Data has been cleaned and saved.\n",
    "✅ Next, move to `03_eda_analysis.ipynb` for exploratory data analysis."
   ]
  }
 ],
 "metadata": {
  "kernelspec": {
   "display_name": "Python 3",
   "language": "python",
   "name": "python3"
  },
  "language_info": {
   "codemirror_mode": {
    "name": "ipython",
    "version": 3
   },
   "file_extension": ".py",
   "mimetype": "text/x-python",
   "name": "python",
   "nbconvert_exporter": "python",
   "pygments_lexer": "ipython3",
   "version": "3.13.1"
  }
 },
 "nbformat": 4,
 "nbformat_minor": 2
}
