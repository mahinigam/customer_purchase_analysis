{
 "cells": [
  {
   "cell_type": "markdown",
   "metadata": {},
   "source": [
    "# 05_visualization_export.ipynb\n",
    "\n",
    "## **Objective:**\n",
    "Aggregate customer purchase data by region, product category, and purchase frequency, and export the results.\n",
    "\n",
    "---\n",
    "\n",
    "## **1️⃣ Import Necessary Libraries**"
   ]
  },
  {
   "cell_type": "code",
   "execution_count": 7,
   "metadata": {},
   "outputs": [],
   "source": [
    "import pandas as pd\n",
    "import logging\n",
    "import os"
   ]
  },
  {
   "cell_type": "markdown",
   "metadata": {},
   "source": [
    "## **2️⃣ Set Up Logging**"
   ]
  },
  {
   "cell_type": "code",
   "execution_count": 8,
   "metadata": {},
   "outputs": [],
   "source": [
    "logging.basicConfig(level=logging.INFO, format='%(asctime)s - %(levelname)s - %(message)s')"
   ]
  },
  {
   "cell_type": "markdown",
   "metadata": {},
   "source": [
    "## **3️⃣ Define File Paths**"
   ]
  },
  {
   "cell_type": "code",
   "execution_count": 9,
   "metadata": {},
   "outputs": [],
   "source": [
    "DATA_PATH = \"data/customer_data_clean.csv\"\n",
    "OUTPUT_PATH = \"data/aggregated_data.xlsx\""
   ]
  },
  {
   "cell_type": "markdown",
   "metadata": {},
   "source": [
    "## **4️⃣ Load Dataset**"
   ]
  },
  {
   "cell_type": "code",
   "execution_count": 10,
   "metadata": {},
   "outputs": [
    {
     "name": "stderr",
     "output_type": "stream",
     "text": [
      "2025-02-28 03:39:23,315 - ERROR - File not found: data/customer_data_clean.csv\n"
     ]
    }
   ],
   "source": [
    "def load_data(file_path):\n",
    "    \"\"\"Load dataset with error handling.\"\"\"\n",
    "    if not os.path.exists(file_path):\n",
    "        logging.error(f\"File not found: {file_path}\")\n",
    "        return None\n",
    "    try:\n",
    "        df = pd.read_csv(file_path)\n",
    "        logging.info(\"Data successfully loaded.\")\n",
    "        return df\n",
    "    except Exception as e:\n",
    "        logging.error(f\"Error loading data: {e}\")\n",
    "        return None\n",
    "\n",
    "# Load data\n",
    "df = load_data(DATA_PATH)"
   ]
  },
  {
   "cell_type": "markdown",
   "metadata": {},
   "source": [
    "## **5️⃣ Aggregate Data**"
   ]
  },
  {
   "cell_type": "code",
   "execution_count": 11,
   "metadata": {},
   "outputs": [
    {
     "name": "stderr",
     "output_type": "stream",
     "text": [
      "2025-02-28 03:39:23,333 - ERROR - No data available for aggregation.\n"
     ]
    }
   ],
   "source": [
    "def aggregate_data(df):\n",
    "    \"\"\"Aggregate purchase amount by region, product category, and purchase frequency.\"\"\"\n",
    "    if df is None:\n",
    "        logging.error(\"No data available for aggregation.\")\n",
    "        return None\n",
    "    \n",
    "    try:\n",
    "        # Aggregate total purchase amount by region\n",
    "        region_sales = df.groupby('region')['purchase_amount'].sum().reset_index()\n",
    "        region_sales.rename(columns={'purchase_amount': 'total_sales'}, inplace=True)\n",
    "\n",
    "        # Aggregate total purchase amount by product category\n",
    "        category_sales = df.groupby('product_category')['purchase_amount'].sum().reset_index()\n",
    "        category_sales.rename(columns={'purchase_amount': 'total_sales'}, inplace=True)\n",
    "\n",
    "        # Aggregate total purchase amount by purchase frequency\n",
    "        frequency_sales = df.groupby('purchase_frequency')['purchase_amount'].sum().reset_index()\n",
    "        frequency_sales.rename(columns={'purchase_amount': 'total_sales'}, inplace=True)\n",
    "\n",
    "        logging.info(\"Data aggregation complete.\")\n",
    "        return region_sales, category_sales, frequency_sales\n",
    "\n",
    "    except Exception as e:\n",
    "        logging.error(f\"Error during data aggregation: {e}\")\n",
    "        return None\n",
    "\n",
    "# Aggregate data\n",
    "aggregated_data = aggregate_data(df)"
   ]
  },
  {
   "cell_type": "markdown",
   "metadata": {},
   "source": [
    "## **6️⃣ Export Data to Excel**"
   ]
  },
  {
   "cell_type": "code",
   "execution_count": 12,
   "metadata": {},
   "outputs": [],
   "source": [
    "if aggregated_data:\n",
    "    try:\n",
    "        with pd.ExcelWriter(OUTPUT_PATH) as writer:\n",
    "            aggregated_data[0].to_excel(writer, sheet_name=\"Region Sales\", index=False)\n",
    "            aggregated_data[1].to_excel(writer, sheet_name=\"Category Sales\", index=False)\n",
    "            aggregated_data[2].to_excel(writer, sheet_name=\"Frequency Sales\", index=False)\n",
    "        logging.info(f\"Aggregated data exported successfully: {OUTPUT_PATH}\")\n",
    "    except Exception as e:\n",
    "        logging.error(f\"Error exporting data: {e}\")"
   ]
  },
  {
   "cell_type": "markdown",
   "metadata": {},
   "source": [
    "## **7️⃣ Summary & Next Steps**\n",
    "✅ Data aggregated by region, product category, and purchase frequency.  \n",
    "✅ Results saved to an Excel file.  \n",
    "➡️ Next, use this data for **Tableau visualization** and **business insights**."
   ]
  }
 ],
 "metadata": {
  "kernelspec": {
   "display_name": "venv",
   "language": "python",
   "name": "python3"
  },
  "language_info": {
   "codemirror_mode": {
    "name": "ipython",
    "version": 3
   },
   "file_extension": ".py",
   "mimetype": "text/x-python",
   "name": "python",
   "nbconvert_exporter": "python",
   "pygments_lexer": "ipython3",
   "version": "3.13.1"
  }
 },
 "nbformat": 4,
 "nbformat_minor": 2
}
